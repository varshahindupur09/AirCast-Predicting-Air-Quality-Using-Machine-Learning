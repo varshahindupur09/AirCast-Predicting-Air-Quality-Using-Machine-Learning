{
  "cells": [
    {
      "cell_type": "code",
      "execution_count": 1,
      "metadata": {
        "id": "e5nL8rL0_s9G"
      },
      "outputs": [],
      "source": [
        "import numpy as np\n",
        "from sklearn.preprocessing import MinMaxScaler\n",
        "from tensorflow.keras.models import Sequential\n",
        "from tensorflow.keras.layers import LSTM, Dense\n",
        "import pandas as pd"
      ]
    },
    {
      "cell_type": "code",
      "execution_count": null,
      "metadata": {
        "id": "XbZapSuiAHxh"
      },
      "outputs": [],
      "source": []
    },
    {
      "cell_type": "code",
      "execution_count": 2,
      "metadata": {
        "id": "YrlcPbIM_vhl"
      },
      "outputs": [],
      "source": [
        "df = pd.read_csv('./data/boston_rox.csv',sep = \",\")"
      ]
    },
    {
      "cell_type": "code",
      "execution_count": 3,
      "metadata": {
        "id": "41NZv8B0AFv-"
      },
      "outputs": [],
      "source": [
        "df[\"Date\"] = pd.to_datetime(df[\"DateTime\"])\n",
        "df.set_index(\"Date\", inplace=True)"
      ]
    },
    {
      "cell_type": "code",
      "execution_count": 4,
      "metadata": {
        "colab": {
          "base_uri": "https://localhost:8080/",
          "height": 450
        },
        "id": "d1LfQ1R5AJ48",
        "outputId": "1a12670e-40f0-4cbc-81eb-3e374559056d"
      },
      "outputs": [
        {
          "data": {
            "text/html": [
              "<div>\n",
              "<style scoped>\n",
              "    .dataframe tbody tr th:only-of-type {\n",
              "        vertical-align: middle;\n",
              "    }\n",
              "\n",
              "    .dataframe tbody tr th {\n",
              "        vertical-align: top;\n",
              "    }\n",
              "\n",
              "    .dataframe thead th {\n",
              "        text-align: right;\n",
              "    }\n",
              "</style>\n",
              "<table border=\"1\" class=\"dataframe\">\n",
              "  <thead>\n",
              "    <tr style=\"text-align: right;\">\n",
              "      <th></th>\n",
              "      <th>value</th>\n",
              "    </tr>\n",
              "    <tr>\n",
              "      <th>Date</th>\n",
              "      <th></th>\n",
              "    </tr>\n",
              "  </thead>\n",
              "  <tbody>\n",
              "    <tr>\n",
              "      <th>2022-11-24 03:00:00</th>\n",
              "      <td>9.0</td>\n",
              "    </tr>\n",
              "    <tr>\n",
              "      <th>2022-10-26 10:00:00</th>\n",
              "      <td>3.0</td>\n",
              "    </tr>\n",
              "    <tr>\n",
              "      <th>2022-11-02 14:00:00</th>\n",
              "      <td>9.0</td>\n",
              "    </tr>\n",
              "    <tr>\n",
              "      <th>2022-10-13 19:00:00</th>\n",
              "      <td>6.0</td>\n",
              "    </tr>\n",
              "    <tr>\n",
              "      <th>2023-01-12 23:00:00</th>\n",
              "      <td>7.0</td>\n",
              "    </tr>\n",
              "    <tr>\n",
              "      <th>...</th>\n",
              "      <td>...</td>\n",
              "    </tr>\n",
              "    <tr>\n",
              "      <th>2022-11-11 07:00:00</th>\n",
              "      <td>6.0</td>\n",
              "    </tr>\n",
              "    <tr>\n",
              "      <th>2022-11-02 19:00:00</th>\n",
              "      <td>5.0</td>\n",
              "    </tr>\n",
              "    <tr>\n",
              "      <th>2022-10-13 00:00:00</th>\n",
              "      <td>10.0</td>\n",
              "    </tr>\n",
              "    <tr>\n",
              "      <th>2022-11-11 13:00:00</th>\n",
              "      <td>6.0</td>\n",
              "    </tr>\n",
              "    <tr>\n",
              "      <th>2022-10-26 09:00:00</th>\n",
              "      <td>2.0</td>\n",
              "    </tr>\n",
              "  </tbody>\n",
              "</table>\n",
              "<p>4303 rows × 1 columns</p>\n",
              "</div>"
            ],
            "text/plain": [
              "                     value\n",
              "Date                      \n",
              "2022-11-24 03:00:00    9.0\n",
              "2022-10-26 10:00:00    3.0\n",
              "2022-11-02 14:00:00    9.0\n",
              "2022-10-13 19:00:00    6.0\n",
              "2023-01-12 23:00:00    7.0\n",
              "...                    ...\n",
              "2022-11-11 07:00:00    6.0\n",
              "2022-11-02 19:00:00    5.0\n",
              "2022-10-13 00:00:00   10.0\n",
              "2022-11-11 13:00:00    6.0\n",
              "2022-10-26 09:00:00    2.0\n",
              "\n",
              "[4303 rows x 1 columns]"
            ]
          },
          "execution_count": 4,
          "metadata": {},
          "output_type": "execute_result"
        }
      ],
      "source": [
        "df.drop(['DateTime'], axis=1, inplace=True)\n",
        "df"
      ]
    },
    {
      "cell_type": "code",
      "execution_count": 5,
      "metadata": {
        "id": "25UC_2DjIKnH"
      },
      "outputs": [],
      "source": [
        "df_sorted = df.sort_values(by='Date')\n"
      ]
    },
    {
      "cell_type": "code",
      "execution_count": 6,
      "metadata": {
        "colab": {
          "base_uri": "https://localhost:8080/",
          "height": 450
        },
        "id": "C0s2escHIOxA",
        "outputId": "41140504-025d-49f0-e218-9bbcbe8e6778"
      },
      "outputs": [
        {
          "data": {
            "text/html": [
              "<div>\n",
              "<style scoped>\n",
              "    .dataframe tbody tr th:only-of-type {\n",
              "        vertical-align: middle;\n",
              "    }\n",
              "\n",
              "    .dataframe tbody tr th {\n",
              "        vertical-align: top;\n",
              "    }\n",
              "\n",
              "    .dataframe thead th {\n",
              "        text-align: right;\n",
              "    }\n",
              "</style>\n",
              "<table border=\"1\" class=\"dataframe\">\n",
              "  <thead>\n",
              "    <tr style=\"text-align: right;\">\n",
              "      <th></th>\n",
              "      <th>value</th>\n",
              "    </tr>\n",
              "    <tr>\n",
              "      <th>Date</th>\n",
              "      <th></th>\n",
              "    </tr>\n",
              "  </thead>\n",
              "  <tbody>\n",
              "    <tr>\n",
              "      <th>2022-10-01 00:00:00</th>\n",
              "      <td>8.0</td>\n",
              "    </tr>\n",
              "    <tr>\n",
              "      <th>2022-10-01 01:00:00</th>\n",
              "      <td>9.0</td>\n",
              "    </tr>\n",
              "    <tr>\n",
              "      <th>2022-10-01 02:00:00</th>\n",
              "      <td>8.0</td>\n",
              "    </tr>\n",
              "    <tr>\n",
              "      <th>2022-10-01 03:00:00</th>\n",
              "      <td>8.0</td>\n",
              "    </tr>\n",
              "    <tr>\n",
              "      <th>2022-10-01 04:00:00</th>\n",
              "      <td>8.0</td>\n",
              "    </tr>\n",
              "    <tr>\n",
              "      <th>...</th>\n",
              "      <td>...</td>\n",
              "    </tr>\n",
              "    <tr>\n",
              "      <th>2023-03-31 19:00:00</th>\n",
              "      <td>7.0</td>\n",
              "    </tr>\n",
              "    <tr>\n",
              "      <th>2023-03-31 20:00:00</th>\n",
              "      <td>10.0</td>\n",
              "    </tr>\n",
              "    <tr>\n",
              "      <th>2023-03-31 21:00:00</th>\n",
              "      <td>8.0</td>\n",
              "    </tr>\n",
              "    <tr>\n",
              "      <th>2023-03-31 22:00:00</th>\n",
              "      <td>8.0</td>\n",
              "    </tr>\n",
              "    <tr>\n",
              "      <th>2023-03-31 23:00:00</th>\n",
              "      <td>7.0</td>\n",
              "    </tr>\n",
              "  </tbody>\n",
              "</table>\n",
              "<p>4303 rows × 1 columns</p>\n",
              "</div>"
            ],
            "text/plain": [
              "                     value\n",
              "Date                      \n",
              "2022-10-01 00:00:00    8.0\n",
              "2022-10-01 01:00:00    9.0\n",
              "2022-10-01 02:00:00    8.0\n",
              "2022-10-01 03:00:00    8.0\n",
              "2022-10-01 04:00:00    8.0\n",
              "...                    ...\n",
              "2023-03-31 19:00:00    7.0\n",
              "2023-03-31 20:00:00   10.0\n",
              "2023-03-31 21:00:00    8.0\n",
              "2023-03-31 22:00:00    8.0\n",
              "2023-03-31 23:00:00    7.0\n",
              "\n",
              "[4303 rows x 1 columns]"
            ]
          },
          "execution_count": 6,
          "metadata": {},
          "output_type": "execute_result"
        }
      ],
      "source": [
        "df = df_sorted\n",
        "df"
      ]
    },
    {
      "cell_type": "code",
      "execution_count": 7,
      "metadata": {
        "id": "CQZKnRRcAPR6"
      },
      "outputs": [],
      "source": [
        "# Define the number of previous time steps to use for each prediction\n",
        "n_steps = 24\n",
        "\n",
        "# Split the data into training and testing sets\n",
        "train_size = int(len(df) * 0.8)\n",
        "train_data = df.iloc[:train_size]\n",
        "test_data = df.iloc[train_size:]\n"
      ]
    },
    {
      "cell_type": "code",
      "execution_count": 8,
      "metadata": {
        "colab": {
          "base_uri": "https://localhost:8080/",
          "height": 450
        },
        "id": "yBPt2rzVFAo1",
        "outputId": "1dd629a3-c1d2-41e2-b88c-01004911bd67"
      },
      "outputs": [
        {
          "data": {
            "text/html": [
              "<div>\n",
              "<style scoped>\n",
              "    .dataframe tbody tr th:only-of-type {\n",
              "        vertical-align: middle;\n",
              "    }\n",
              "\n",
              "    .dataframe tbody tr th {\n",
              "        vertical-align: top;\n",
              "    }\n",
              "\n",
              "    .dataframe thead th {\n",
              "        text-align: right;\n",
              "    }\n",
              "</style>\n",
              "<table border=\"1\" class=\"dataframe\">\n",
              "  <thead>\n",
              "    <tr style=\"text-align: right;\">\n",
              "      <th></th>\n",
              "      <th>value</th>\n",
              "    </tr>\n",
              "    <tr>\n",
              "      <th>Date</th>\n",
              "      <th></th>\n",
              "    </tr>\n",
              "  </thead>\n",
              "  <tbody>\n",
              "    <tr>\n",
              "      <th>2022-10-01 00:00:00</th>\n",
              "      <td>8.0</td>\n",
              "    </tr>\n",
              "    <tr>\n",
              "      <th>2022-10-01 01:00:00</th>\n",
              "      <td>9.0</td>\n",
              "    </tr>\n",
              "    <tr>\n",
              "      <th>2022-10-01 02:00:00</th>\n",
              "      <td>8.0</td>\n",
              "    </tr>\n",
              "    <tr>\n",
              "      <th>2022-10-01 03:00:00</th>\n",
              "      <td>8.0</td>\n",
              "    </tr>\n",
              "    <tr>\n",
              "      <th>2022-10-01 04:00:00</th>\n",
              "      <td>8.0</td>\n",
              "    </tr>\n",
              "    <tr>\n",
              "      <th>...</th>\n",
              "      <td>...</td>\n",
              "    </tr>\n",
              "    <tr>\n",
              "      <th>2023-02-23 18:00:00</th>\n",
              "      <td>4.0</td>\n",
              "    </tr>\n",
              "    <tr>\n",
              "      <th>2023-02-23 19:00:00</th>\n",
              "      <td>4.0</td>\n",
              "    </tr>\n",
              "    <tr>\n",
              "      <th>2023-02-23 20:00:00</th>\n",
              "      <td>4.0</td>\n",
              "    </tr>\n",
              "    <tr>\n",
              "      <th>2023-02-23 21:00:00</th>\n",
              "      <td>5.0</td>\n",
              "    </tr>\n",
              "    <tr>\n",
              "      <th>2023-02-23 22:00:00</th>\n",
              "      <td>6.0</td>\n",
              "    </tr>\n",
              "  </tbody>\n",
              "</table>\n",
              "<p>3442 rows × 1 columns</p>\n",
              "</div>"
            ],
            "text/plain": [
              "                     value\n",
              "Date                      \n",
              "2022-10-01 00:00:00    8.0\n",
              "2022-10-01 01:00:00    9.0\n",
              "2022-10-01 02:00:00    8.0\n",
              "2022-10-01 03:00:00    8.0\n",
              "2022-10-01 04:00:00    8.0\n",
              "...                    ...\n",
              "2023-02-23 18:00:00    4.0\n",
              "2023-02-23 19:00:00    4.0\n",
              "2023-02-23 20:00:00    4.0\n",
              "2023-02-23 21:00:00    5.0\n",
              "2023-02-23 22:00:00    6.0\n",
              "\n",
              "[3442 rows x 1 columns]"
            ]
          },
          "execution_count": 8,
          "metadata": {},
          "output_type": "execute_result"
        }
      ],
      "source": [
        "train_data"
      ]
    },
    {
      "cell_type": "code",
      "execution_count": 44,
      "metadata": {
        "id": "Kt1JUd-bAkK1"
      },
      "outputs": [],
      "source": [
        "## Should only normalize training data not test data since we assume test data as completely new data. Since in real time we are\n",
        "\n",
        "scaler = MinMaxScaler()\n",
        "train_scaled = scaler.fit_transform(train_data)\n",
        "test_scaled = scaler.transform(test_data)"
      ]
    },
    {
      "cell_type": "code",
      "execution_count": 45,
      "metadata": {
        "colab": {
          "base_uri": "https://localhost:8080/"
        },
        "id": "hYXyeaIzFDxU",
        "outputId": "cc23b9dd-8c5d-4232-d2f9-a615c42068d0"
      },
      "outputs": [
        {
          "data": {
            "text/plain": [
              "array([[0.33628319],\n",
              "       [0.38053097],\n",
              "       [0.33628319],\n",
              "       ...,\n",
              "       [0.15929204],\n",
              "       [0.20353982],\n",
              "       [0.24778761]])"
            ]
          },
          "execution_count": 45,
          "metadata": {},
          "output_type": "execute_result"
        }
      ],
      "source": [
        "train_scaled"
      ]
    },
    {
      "cell_type": "code",
      "execution_count": 46,
      "metadata": {
        "id": "Ixd_wBiOAlVL"
      },
      "outputs": [],
      "source": [
        "def create_sequences(data, n_steps):\n",
        "    X, y = [], []\n",
        "    for i in range(len(data) - n_steps):\n",
        "        X.append(data[i:i+n_steps])\n",
        "        y.append(data[i+n_steps])\n",
        "    return np.array(X), np.array(y)\n",
        "\n",
        "X_train, y_train = create_sequences(train_scaled, n_steps)\n",
        "X_test, y_test = create_sequences(test_scaled, n_steps)\n",
        "\n",
        "# Define the LSTM model architecture\n",
        "model = Sequential()\n",
        "model.add(LSTM(units=50, return_sequences=True, input_shape=(n_steps, 1)))\n",
        "model.add(LSTM(units=50))\n",
        "model.add(Dense(units=1))\n"
      ]
    },
    {
      "cell_type": "code",
      "execution_count": 49,
      "metadata": {},
      "outputs": [],
      "source": [
        "model.compile(optimizer='adam', loss='mean_squared_error')"
      ]
    },
    {
      "cell_type": "code",
      "execution_count": null,
      "metadata": {},
      "outputs": [],
      "source": []
    },
    {
      "cell_type": "code",
      "execution_count": 47,
      "metadata": {
        "colab": {
          "base_uri": "https://localhost:8080/"
        },
        "id": "BUv97N2zFGyY",
        "outputId": "aa3704cc-6539-425c-f896-805292091461"
      },
      "outputs": [
        {
          "data": {
            "text/plain": [
              "array([[[0.33628319],\n",
              "        [0.38053097],\n",
              "        [0.33628319],\n",
              "        ...,\n",
              "        [0.24778761],\n",
              "        [0.24778761],\n",
              "        [0.24778761]],\n",
              "\n",
              "       [[0.38053097],\n",
              "        [0.33628319],\n",
              "        [0.33628319],\n",
              "        ...,\n",
              "        [0.24778761],\n",
              "        [0.24778761],\n",
              "        [0.24778761]],\n",
              "\n",
              "       [[0.33628319],\n",
              "        [0.33628319],\n",
              "        [0.33628319],\n",
              "        ...,\n",
              "        [0.24778761],\n",
              "        [0.24778761],\n",
              "        [0.24778761]],\n",
              "\n",
              "       ...,\n",
              "\n",
              "       [[0.24778761],\n",
              "        [0.24778761],\n",
              "        [0.24778761],\n",
              "        ...,\n",
              "        [0.15929204],\n",
              "        [0.15929204],\n",
              "        [0.15929204]],\n",
              "\n",
              "       [[0.24778761],\n",
              "        [0.24778761],\n",
              "        [0.24778761],\n",
              "        ...,\n",
              "        [0.15929204],\n",
              "        [0.15929204],\n",
              "        [0.15929204]],\n",
              "\n",
              "       [[0.24778761],\n",
              "        [0.24778761],\n",
              "        [0.20353982],\n",
              "        ...,\n",
              "        [0.15929204],\n",
              "        [0.15929204],\n",
              "        [0.20353982]]])"
            ]
          },
          "execution_count": 47,
          "metadata": {},
          "output_type": "execute_result"
        }
      ],
      "source": [
        "X_train"
      ]
    },
    {
      "cell_type": "code",
      "execution_count": null,
      "metadata": {
        "id": "_4kV76bLBD1D"
      },
      "outputs": [],
      "source": []
    },
    {
      "cell_type": "code",
      "execution_count": 50,
      "metadata": {
        "colab": {
          "base_uri": "https://localhost:8080/"
        },
        "id": "51ySMWYwAnZE",
        "outputId": "fd3753ff-21ee-466c-8cdf-ade86fffd770"
      },
      "outputs": [
        {
          "name": "stdout",
          "output_type": "stream",
          "text": [
            "Epoch 1/100\n",
            "54/54 [==============================] - 4s 14ms/step - loss: 0.0186\n",
            "Epoch 2/100\n",
            "54/54 [==============================] - 1s 15ms/step - loss: 0.0099\n",
            "Epoch 3/100\n",
            "54/54 [==============================] - 1s 15ms/step - loss: 0.0079\n",
            "Epoch 4/100\n",
            "54/54 [==============================] - 1s 14ms/step - loss: 0.0065\n",
            "Epoch 5/100\n",
            "54/54 [==============================] - 1s 15ms/step - loss: 0.0055\n",
            "Epoch 6/100\n",
            "54/54 [==============================] - 1s 15ms/step - loss: 0.0046\n",
            "Epoch 7/100\n",
            "54/54 [==============================] - 1s 15ms/step - loss: 0.0040\n",
            "Epoch 8/100\n",
            "54/54 [==============================] - 1s 15ms/step - loss: 0.0037\n",
            "Epoch 9/100\n",
            "54/54 [==============================] - 1s 15ms/step - loss: 0.0035\n",
            "Epoch 10/100\n",
            "54/54 [==============================] - 1s 14ms/step - loss: 0.0029\n",
            "Epoch 11/100\n",
            "54/54 [==============================] - 1s 16ms/step - loss: 0.0027\n",
            "Epoch 12/100\n",
            "54/54 [==============================] - 1s 15ms/step - loss: 0.0028\n",
            "Epoch 13/100\n",
            "54/54 [==============================] - 1s 14ms/step - loss: 0.0027\n",
            "Epoch 14/100\n",
            "54/54 [==============================] - 1s 15ms/step - loss: 0.0026\n",
            "Epoch 15/100\n",
            "54/54 [==============================] - 1s 14ms/step - loss: 0.0025\n",
            "Epoch 16/100\n",
            "54/54 [==============================] - 1s 14ms/step - loss: 0.0025\n",
            "Epoch 17/100\n",
            "54/54 [==============================] - 1s 14ms/step - loss: 0.0025\n",
            "Epoch 18/100\n",
            "54/54 [==============================] - 1s 14ms/step - loss: 0.0025\n",
            "Epoch 19/100\n",
            "54/54 [==============================] - 1s 14ms/step - loss: 0.0026\n",
            "Epoch 20/100\n",
            "54/54 [==============================] - 1s 14ms/step - loss: 0.0025\n",
            "Epoch 21/100\n",
            "54/54 [==============================] - 1s 14ms/step - loss: 0.0025\n",
            "Epoch 22/100\n",
            "54/54 [==============================] - 1s 15ms/step - loss: 0.0026\n",
            "Epoch 23/100\n",
            "54/54 [==============================] - 1s 14ms/step - loss: 0.0027\n",
            "Epoch 24/100\n",
            "54/54 [==============================] - 1s 14ms/step - loss: 0.0026\n",
            "Epoch 25/100\n",
            "54/54 [==============================] - 1s 14ms/step - loss: 0.0025\n",
            "Epoch 26/100\n",
            "54/54 [==============================] - 1s 14ms/step - loss: 0.0025\n",
            "Epoch 27/100\n",
            "54/54 [==============================] - 1s 14ms/step - loss: 0.0025\n",
            "Epoch 28/100\n",
            "54/54 [==============================] - 1s 14ms/step - loss: 0.0025\n",
            "Epoch 29/100\n",
            "54/54 [==============================] - 1s 14ms/step - loss: 0.0025\n",
            "Epoch 30/100\n",
            "54/54 [==============================] - 1s 14ms/step - loss: 0.0025\n",
            "Epoch 31/100\n",
            "54/54 [==============================] - 1s 14ms/step - loss: 0.0025\n",
            "Epoch 32/100\n",
            "54/54 [==============================] - 1s 15ms/step - loss: 0.0026\n",
            "Epoch 33/100\n",
            "54/54 [==============================] - 1s 14ms/step - loss: 0.0025\n",
            "Epoch 34/100\n",
            "54/54 [==============================] - 1s 14ms/step - loss: 0.0025\n",
            "Epoch 35/100\n",
            "54/54 [==============================] - 1s 14ms/step - loss: 0.0025\n",
            "Epoch 36/100\n",
            "54/54 [==============================] - 1s 14ms/step - loss: 0.0025\n",
            "Epoch 37/100\n",
            "54/54 [==============================] - 1s 14ms/step - loss: 0.0025\n",
            "Epoch 38/100\n",
            "54/54 [==============================] - 1s 14ms/step - loss: 0.0025\n",
            "Epoch 39/100\n",
            "54/54 [==============================] - 1s 14ms/step - loss: 0.0025\n",
            "Epoch 40/100\n",
            "54/54 [==============================] - 1s 14ms/step - loss: 0.0025\n",
            "Epoch 41/100\n",
            "54/54 [==============================] - 1s 14ms/step - loss: 0.0026\n",
            "Epoch 42/100\n",
            "54/54 [==============================] - 1s 14ms/step - loss: 0.0025\n",
            "Epoch 43/100\n",
            "54/54 [==============================] - 1s 14ms/step - loss: 0.0024\n",
            "Epoch 44/100\n",
            "54/54 [==============================] - 1s 14ms/step - loss: 0.0026\n",
            "Epoch 45/100\n",
            "54/54 [==============================] - 1s 14ms/step - loss: 0.0025\n",
            "Epoch 46/100\n",
            "54/54 [==============================] - 1s 14ms/step - loss: 0.0025\n",
            "Epoch 47/100\n",
            "54/54 [==============================] - 1s 14ms/step - loss: 0.0024\n",
            "Epoch 48/100\n",
            "54/54 [==============================] - 1s 14ms/step - loss: 0.0024\n",
            "Epoch 49/100\n",
            "54/54 [==============================] - 1s 14ms/step - loss: 0.0025\n",
            "Epoch 50/100\n",
            "54/54 [==============================] - 1s 15ms/step - loss: 0.0025\n",
            "Epoch 51/100\n",
            "54/54 [==============================] - 1s 14ms/step - loss: 0.0025\n",
            "Epoch 52/100\n",
            "54/54 [==============================] - 1s 14ms/step - loss: 0.0025\n",
            "Epoch 53/100\n",
            "54/54 [==============================] - 1s 14ms/step - loss: 0.0025\n",
            "Epoch 54/100\n",
            "54/54 [==============================] - 1s 14ms/step - loss: 0.0025\n",
            "Epoch 55/100\n",
            "54/54 [==============================] - 1s 14ms/step - loss: 0.0025\n",
            "Epoch 56/100\n",
            "54/54 [==============================] - 1s 14ms/step - loss: 0.0025\n",
            "Epoch 57/100\n",
            "54/54 [==============================] - 1s 14ms/step - loss: 0.0024\n",
            "Epoch 58/100\n",
            "54/54 [==============================] - 1s 14ms/step - loss: 0.0024\n",
            "Epoch 59/100\n",
            "54/54 [==============================] - 1s 14ms/step - loss: 0.0025\n",
            "Epoch 60/100\n",
            "54/54 [==============================] - 1s 14ms/step - loss: 0.0025\n",
            "Epoch 61/100\n",
            "54/54 [==============================] - 1s 15ms/step - loss: 0.0025\n",
            "Epoch 62/100\n",
            "54/54 [==============================] - 1s 15ms/step - loss: 0.0025\n",
            "Epoch 63/100\n",
            "54/54 [==============================] - 1s 15ms/step - loss: 0.0025\n",
            "Epoch 64/100\n",
            "54/54 [==============================] - 1s 15ms/step - loss: 0.0024\n",
            "Epoch 65/100\n",
            "54/54 [==============================] - 1s 15ms/step - loss: 0.0024\n",
            "Epoch 66/100\n",
            "54/54 [==============================] - 1s 14ms/step - loss: 0.0024\n",
            "Epoch 67/100\n",
            "54/54 [==============================] - 1s 14ms/step - loss: 0.0024\n",
            "Epoch 68/100\n",
            "54/54 [==============================] - 1s 14ms/step - loss: 0.0024\n",
            "Epoch 69/100\n",
            "54/54 [==============================] - 1s 14ms/step - loss: 0.0024\n",
            "Epoch 70/100\n",
            "54/54 [==============================] - 1s 14ms/step - loss: 0.0024\n",
            "Epoch 71/100\n",
            "54/54 [==============================] - 1s 14ms/step - loss: 0.0024\n",
            "Epoch 72/100\n",
            "54/54 [==============================] - 1s 14ms/step - loss: 0.0024\n",
            "Epoch 73/100\n",
            "54/54 [==============================] - 1s 15ms/step - loss: 0.0024\n",
            "Epoch 74/100\n",
            "54/54 [==============================] - 1s 15ms/step - loss: 0.0025\n",
            "Epoch 75/100\n",
            "54/54 [==============================] - 1s 15ms/step - loss: 0.0026\n",
            "Epoch 76/100\n",
            "54/54 [==============================] - 1s 14ms/step - loss: 0.0024\n",
            "Epoch 77/100\n",
            "54/54 [==============================] - 1s 14ms/step - loss: 0.0024\n",
            "Epoch 78/100\n",
            "54/54 [==============================] - 1s 14ms/step - loss: 0.0024\n",
            "Epoch 79/100\n",
            "54/54 [==============================] - 1s 14ms/step - loss: 0.0024\n",
            "Epoch 80/100\n",
            "54/54 [==============================] - 1s 15ms/step - loss: 0.0024\n",
            "Epoch 81/100\n",
            "54/54 [==============================] - 1s 14ms/step - loss: 0.0025\n",
            "Epoch 82/100\n",
            "54/54 [==============================] - 1s 14ms/step - loss: 0.0025\n",
            "Epoch 83/100\n",
            "54/54 [==============================] - 1s 14ms/step - loss: 0.0024\n",
            "Epoch 84/100\n",
            "54/54 [==============================] - 1s 14ms/step - loss: 0.0024\n",
            "Epoch 85/100\n",
            "54/54 [==============================] - 1s 14ms/step - loss: 0.0024\n",
            "Epoch 86/100\n",
            "54/54 [==============================] - 1s 15ms/step - loss: 0.0024\n",
            "Epoch 87/100\n",
            "54/54 [==============================] - 1s 14ms/step - loss: 0.0024\n",
            "Epoch 88/100\n",
            "54/54 [==============================] - 1s 14ms/step - loss: 0.0025\n",
            "Epoch 89/100\n",
            "54/54 [==============================] - 1s 15ms/step - loss: 0.0024\n",
            "Epoch 90/100\n",
            "54/54 [==============================] - 1s 14ms/step - loss: 0.0025\n",
            "Epoch 91/100\n",
            "54/54 [==============================] - 1s 14ms/step - loss: 0.0025\n",
            "Epoch 92/100\n",
            "54/54 [==============================] - 1s 15ms/step - loss: 0.0024\n",
            "Epoch 93/100\n",
            "54/54 [==============================] - 1s 14ms/step - loss: 0.0024\n",
            "Epoch 94/100\n",
            "54/54 [==============================] - 1s 14ms/step - loss: 0.0024\n",
            "Epoch 95/100\n",
            "54/54 [==============================] - 1s 15ms/step - loss: 0.0025\n",
            "Epoch 96/100\n",
            "54/54 [==============================] - 1s 15ms/step - loss: 0.0024\n",
            "Epoch 97/100\n",
            "54/54 [==============================] - 1s 14ms/step - loss: 0.0025\n",
            "Epoch 98/100\n",
            "54/54 [==============================] - 1s 15ms/step - loss: 0.0024\n",
            "Epoch 99/100\n",
            "54/54 [==============================] - 1s 14ms/step - loss: 0.0024\n",
            "Epoch 100/100\n",
            "54/54 [==============================] - 1s 14ms/step - loss: 0.0024\n"
          ]
        },
        {
          "data": {
            "text/plain": [
              "<keras.callbacks.History at 0x2086932ae90>"
            ]
          },
          "execution_count": 50,
          "metadata": {},
          "output_type": "execute_result"
        }
      ],
      "source": [
        "model.fit(X_train, y_train, epochs=100, batch_size=64)"
      ]
    },
    {
      "cell_type": "code",
      "execution_count": 68,
      "metadata": {},
      "outputs": [
        {
          "data": {
            "text/plain": [
              "array([[[0.2920354 ],\n",
              "        [0.38053097],\n",
              "        [0.46902655],\n",
              "        ...,\n",
              "        [0.15929204],\n",
              "        [0.15929204],\n",
              "        [0.15929204]],\n",
              "\n",
              "       [[0.38053097],\n",
              "        [0.46902655],\n",
              "        [0.55752212],\n",
              "        ...,\n",
              "        [0.15929204],\n",
              "        [0.15929204],\n",
              "        [0.15929204]],\n",
              "\n",
              "       [[0.46902655],\n",
              "        [0.55752212],\n",
              "        [0.55752212],\n",
              "        ...,\n",
              "        [0.15929204],\n",
              "        [0.15929204],\n",
              "        [0.11504425]],\n",
              "\n",
              "       ...,\n",
              "\n",
              "       [[0.15929204],\n",
              "        [0.15929204],\n",
              "        [0.15929204],\n",
              "        ...,\n",
              "        [0.2920354 ],\n",
              "        [0.2920354 ],\n",
              "        [0.42477876]],\n",
              "\n",
              "       [[0.15929204],\n",
              "        [0.15929204],\n",
              "        [0.15929204],\n",
              "        ...,\n",
              "        [0.2920354 ],\n",
              "        [0.42477876],\n",
              "        [0.33628319]],\n",
              "\n",
              "       [[0.15929204],\n",
              "        [0.15929204],\n",
              "        [0.15929204],\n",
              "        ...,\n",
              "        [0.42477876],\n",
              "        [0.33628319],\n",
              "        [0.33628319]]])"
            ]
          },
          "execution_count": 68,
          "metadata": {},
          "output_type": "execute_result"
        }
      ],
      "source": [
        "X_test"
      ]
    },
    {
      "cell_type": "code",
      "execution_count": 53,
      "metadata": {
        "colab": {
          "base_uri": "https://localhost:8080/"
        },
        "id": "SNr0KBTNAo6y",
        "outputId": "832d82f3-b653-42ee-8d50-54565c8b0a79"
      },
      "outputs": [
        {
          "name": "stdout",
          "output_type": "stream",
          "text": [
            "27/27 [==============================] - 0s 4ms/step\n"
          ]
        }
      ],
      "source": [
        "y_pred = model.predict(X_test)"
      ]
    },
    {
      "cell_type": "code",
      "execution_count": 67,
      "metadata": {},
      "outputs": [
        {
          "data": {
            "text/plain": [
              "20088"
            ]
          },
          "execution_count": 67,
          "metadata": {},
          "output_type": "execute_result"
        }
      ],
      "source": [
        "X_test.size"
      ]
    },
    {
      "cell_type": "code",
      "execution_count": 54,
      "metadata": {},
      "outputs": [
        {
          "data": {
            "text/plain": [
              "(837, 1)"
            ]
          },
          "execution_count": 54,
          "metadata": {},
          "output_type": "execute_result"
        }
      ],
      "source": [
        "y_pred.shape"
      ]
    },
    {
      "cell_type": "code",
      "execution_count": 55,
      "metadata": {
        "id": "sXR0wS1eEbVY"
      },
      "outputs": [],
      "source": [
        "y_pred = scaler.inverse_transform(y_pred)\n",
        "y_test = scaler.inverse_transform(y_test)"
      ]
    },
    {
      "cell_type": "code",
      "execution_count": 66,
      "metadata": {},
      "outputs": [
        {
          "data": {
            "text/plain": [
              "837"
            ]
          },
          "execution_count": 66,
          "metadata": {},
          "output_type": "execute_result"
        }
      ],
      "source": [
        "y_pred.size"
      ]
    },
    {
      "cell_type": "code",
      "execution_count": 69,
      "metadata": {},
      "outputs": [
        {
          "name": "stdout",
          "output_type": "stream",
          "text": [
            "1/1 [==============================] - 0s 18ms/step\n"
          ]
        }
      ],
      "source": [
        "y_pred24 = model.predict(X_test[-24:])\n",
        "y_transform = scaler.inverse_transform(y_pred24)"
      ]
    },
    {
      "cell_type": "code",
      "execution_count": 70,
      "metadata": {},
      "outputs": [
        {
          "data": {
            "text/plain": [
              "array([[ 4.496511 ],\n",
              "       [ 4.490515 ],\n",
              "       [ 4.4826455],\n",
              "       [ 4.47075  ],\n",
              "       [ 5.4812226],\n",
              "       [ 4.4583116],\n",
              "       [ 4.387467 ],\n",
              "       [ 4.4521413],\n",
              "       [ 4.4231443],\n",
              "       [ 4.4122987],\n",
              "       [ 5.4535985],\n",
              "       [ 5.47612  ],\n",
              "       [ 5.415327 ],\n",
              "       [ 5.4528255],\n",
              "       [ 5.456668 ],\n",
              "       [ 5.441556 ],\n",
              "       [ 5.4352803],\n",
              "       [ 6.4764194],\n",
              "       [ 7.552893 ],\n",
              "       [ 7.457464 ],\n",
              "       [ 7.4093766],\n",
              "       [10.652549 ],\n",
              "       [ 8.417572 ],\n",
              "       [ 8.156886 ]], dtype=float32)"
            ]
          },
          "execution_count": 70,
          "metadata": {},
          "output_type": "execute_result"
        }
      ],
      "source": [
        "y_transform "
      ]
    },
    {
      "cell_type": "markdown",
      "metadata": {},
      "source": [
        "y_pred.size"
      ]
    },
    {
      "cell_type": "code",
      "execution_count": 57,
      "metadata": {
        "colab": {
          "base_uri": "https://localhost:8080/"
        },
        "id": "e9-jEftzEdcy",
        "outputId": "5be7d5d2-9052-4175-a48c-516c1ce803cf"
      },
      "outputs": [
        {
          "name": "stdout",
          "output_type": "stream",
          "text": [
            "RMSE: 1.1477066460367897\n"
          ]
        }
      ],
      "source": [
        "rmse = np.sqrt(np.mean((y_pred - y_test)**2))\n",
        "print('RMSE:', rmse)"
      ]
    },
    {
      "cell_type": "code",
      "execution_count": 58,
      "metadata": {
        "id": "kpUMjO2hFcyx"
      },
      "outputs": [],
      "source": [
        "last_24_hours = df.tail(24)[['value']].values\n",
        "X_new = last_24_hours.reshape(1, 24, 1)"
      ]
    },
    {
      "cell_type": "code",
      "execution_count": 62,
      "metadata": {},
      "outputs": [
        {
          "data": {
            "text/plain": [
              "(1, 24, 1)"
            ]
          },
          "execution_count": 62,
          "metadata": {},
          "output_type": "execute_result"
        }
      ],
      "source": [
        "X_new.shape"
      ]
    },
    {
      "cell_type": "code",
      "execution_count": 21,
      "metadata": {
        "colab": {
          "base_uri": "https://localhost:8080/"
        },
        "id": "wCzcj9MfGksq",
        "outputId": "c10d4570-ae6a-454e-e418-3c48ceb14646"
      },
      "outputs": [
        {
          "name": "stdout",
          "output_type": "stream",
          "text": [
            "1/1 [==============================] - 0s 24ms/step\n"
          ]
        }
      ],
      "source": [
        "y_new = model.predict(X_new)\n"
      ]
    },
    {
      "cell_type": "code",
      "execution_count": 59,
      "metadata": {},
      "outputs": [],
      "source": [
        "import pandas as pd\n",
        "import datetime\n",
        "#Create dataframe with 24 rows and 0 columns\n",
        "\n",
        "date_time_index = pd.date_range(start='00:00:00', end='23:00:00', freq='1H')\n",
        "final = pd.DataFrame(index=date_time_index, columns=['value'])\n",
        "final.iloc[:,0] = y_new"
      ]
    },
    {
      "cell_type": "code",
      "execution_count": 60,
      "metadata": {},
      "outputs": [
        {
          "data": {
            "text/html": [
              "<div>\n",
              "<style scoped>\n",
              "    .dataframe tbody tr th:only-of-type {\n",
              "        vertical-align: middle;\n",
              "    }\n",
              "\n",
              "    .dataframe tbody tr th {\n",
              "        vertical-align: top;\n",
              "    }\n",
              "\n",
              "    .dataframe thead th {\n",
              "        text-align: right;\n",
              "    }\n",
              "</style>\n",
              "<table border=\"1\" class=\"dataframe\">\n",
              "  <thead>\n",
              "    <tr style=\"text-align: right;\">\n",
              "      <th></th>\n",
              "      <th>value</th>\n",
              "    </tr>\n",
              "  </thead>\n",
              "  <tbody>\n",
              "    <tr>\n",
              "      <th>2023-04-22 00:00:00</th>\n",
              "      <td>3.440367</td>\n",
              "    </tr>\n",
              "    <tr>\n",
              "      <th>2023-04-22 01:00:00</th>\n",
              "      <td>3.440367</td>\n",
              "    </tr>\n",
              "    <tr>\n",
              "      <th>2023-04-22 02:00:00</th>\n",
              "      <td>3.440367</td>\n",
              "    </tr>\n",
              "    <tr>\n",
              "      <th>2023-04-22 03:00:00</th>\n",
              "      <td>3.440367</td>\n",
              "    </tr>\n",
              "    <tr>\n",
              "      <th>2023-04-22 04:00:00</th>\n",
              "      <td>3.440367</td>\n",
              "    </tr>\n",
              "    <tr>\n",
              "      <th>2023-04-22 05:00:00</th>\n",
              "      <td>3.440367</td>\n",
              "    </tr>\n",
              "    <tr>\n",
              "      <th>2023-04-22 06:00:00</th>\n",
              "      <td>3.440367</td>\n",
              "    </tr>\n",
              "    <tr>\n",
              "      <th>2023-04-22 07:00:00</th>\n",
              "      <td>3.440367</td>\n",
              "    </tr>\n",
              "    <tr>\n",
              "      <th>2023-04-22 08:00:00</th>\n",
              "      <td>3.440367</td>\n",
              "    </tr>\n",
              "    <tr>\n",
              "      <th>2023-04-22 09:00:00</th>\n",
              "      <td>3.440367</td>\n",
              "    </tr>\n",
              "    <tr>\n",
              "      <th>2023-04-22 10:00:00</th>\n",
              "      <td>3.440367</td>\n",
              "    </tr>\n",
              "    <tr>\n",
              "      <th>2023-04-22 11:00:00</th>\n",
              "      <td>3.440367</td>\n",
              "    </tr>\n",
              "    <tr>\n",
              "      <th>2023-04-22 12:00:00</th>\n",
              "      <td>3.440367</td>\n",
              "    </tr>\n",
              "    <tr>\n",
              "      <th>2023-04-22 13:00:00</th>\n",
              "      <td>3.440367</td>\n",
              "    </tr>\n",
              "    <tr>\n",
              "      <th>2023-04-22 14:00:00</th>\n",
              "      <td>3.440367</td>\n",
              "    </tr>\n",
              "    <tr>\n",
              "      <th>2023-04-22 15:00:00</th>\n",
              "      <td>3.440367</td>\n",
              "    </tr>\n",
              "    <tr>\n",
              "      <th>2023-04-22 16:00:00</th>\n",
              "      <td>3.440367</td>\n",
              "    </tr>\n",
              "    <tr>\n",
              "      <th>2023-04-22 17:00:00</th>\n",
              "      <td>3.440367</td>\n",
              "    </tr>\n",
              "    <tr>\n",
              "      <th>2023-04-22 18:00:00</th>\n",
              "      <td>3.440367</td>\n",
              "    </tr>\n",
              "    <tr>\n",
              "      <th>2023-04-22 19:00:00</th>\n",
              "      <td>3.440367</td>\n",
              "    </tr>\n",
              "    <tr>\n",
              "      <th>2023-04-22 20:00:00</th>\n",
              "      <td>3.440367</td>\n",
              "    </tr>\n",
              "    <tr>\n",
              "      <th>2023-04-22 21:00:00</th>\n",
              "      <td>3.440367</td>\n",
              "    </tr>\n",
              "    <tr>\n",
              "      <th>2023-04-22 22:00:00</th>\n",
              "      <td>3.440367</td>\n",
              "    </tr>\n",
              "    <tr>\n",
              "      <th>2023-04-22 23:00:00</th>\n",
              "      <td>3.440367</td>\n",
              "    </tr>\n",
              "  </tbody>\n",
              "</table>\n",
              "</div>"
            ],
            "text/plain": [
              "                        value\n",
              "2023-04-22 00:00:00  3.440367\n",
              "2023-04-22 01:00:00  3.440367\n",
              "2023-04-22 02:00:00  3.440367\n",
              "2023-04-22 03:00:00  3.440367\n",
              "2023-04-22 04:00:00  3.440367\n",
              "2023-04-22 05:00:00  3.440367\n",
              "2023-04-22 06:00:00  3.440367\n",
              "2023-04-22 07:00:00  3.440367\n",
              "2023-04-22 08:00:00  3.440367\n",
              "2023-04-22 09:00:00  3.440367\n",
              "2023-04-22 10:00:00  3.440367\n",
              "2023-04-22 11:00:00  3.440367\n",
              "2023-04-22 12:00:00  3.440367\n",
              "2023-04-22 13:00:00  3.440367\n",
              "2023-04-22 14:00:00  3.440367\n",
              "2023-04-22 15:00:00  3.440367\n",
              "2023-04-22 16:00:00  3.440367\n",
              "2023-04-22 17:00:00  3.440367\n",
              "2023-04-22 18:00:00  3.440367\n",
              "2023-04-22 19:00:00  3.440367\n",
              "2023-04-22 20:00:00  3.440367\n",
              "2023-04-22 21:00:00  3.440367\n",
              "2023-04-22 22:00:00  3.440367\n",
              "2023-04-22 23:00:00  3.440367"
            ]
          },
          "execution_count": 60,
          "metadata": {},
          "output_type": "execute_result"
        }
      ],
      "source": [
        "final"
      ]
    },
    {
      "cell_type": "code",
      "execution_count": 63,
      "metadata": {},
      "outputs": [
        {
          "data": {
            "text/plain": [
              "numpy.ndarray"
            ]
          },
          "execution_count": 63,
          "metadata": {},
          "output_type": "execute_result"
        }
      ],
      "source": [
        "type(y_new)"
      ]
    },
    {
      "cell_type": "code",
      "execution_count": 64,
      "metadata": {
        "colab": {
          "base_uri": "https://localhost:8080/"
        },
        "id": "oiZRlM4LHPIh",
        "outputId": "e8d0a5b2-0e51-4c8f-bd01-13e0fab76784"
      },
      "outputs": [
        {
          "name": "stdout",
          "output_type": "stream",
          "text": [
            "Predicted PM2.5 concentration for the next 24 hours: 3.44\n"
          ]
        }
      ],
      "source": [
        "print(f\"Predicted PM2.5 concentration for the next 24 hours: {y_new[0, 0]:.2f}\")\n"
      ]
    },
    {
      "cell_type": "code",
      "execution_count": 23,
      "metadata": {
        "colab": {
          "base_uri": "https://localhost:8080/",
          "height": 450
        },
        "id": "ptgCiXAaHQof",
        "outputId": "77594993-2b9c-4bf1-d5f9-dd7a6788d771"
      },
      "outputs": [
        {
          "data": {
            "text/html": [
              "<div>\n",
              "<style scoped>\n",
              "    .dataframe tbody tr th:only-of-type {\n",
              "        vertical-align: middle;\n",
              "    }\n",
              "\n",
              "    .dataframe tbody tr th {\n",
              "        vertical-align: top;\n",
              "    }\n",
              "\n",
              "    .dataframe thead th {\n",
              "        text-align: right;\n",
              "    }\n",
              "</style>\n",
              "<table border=\"1\" class=\"dataframe\">\n",
              "  <thead>\n",
              "    <tr style=\"text-align: right;\">\n",
              "      <th></th>\n",
              "      <th>value</th>\n",
              "    </tr>\n",
              "    <tr>\n",
              "      <th>Date</th>\n",
              "      <th></th>\n",
              "    </tr>\n",
              "  </thead>\n",
              "  <tbody>\n",
              "    <tr>\n",
              "      <th>2022-10-01 00:00:00</th>\n",
              "      <td>8.0</td>\n",
              "    </tr>\n",
              "    <tr>\n",
              "      <th>2022-10-01 01:00:00</th>\n",
              "      <td>9.0</td>\n",
              "    </tr>\n",
              "    <tr>\n",
              "      <th>2022-10-01 02:00:00</th>\n",
              "      <td>8.0</td>\n",
              "    </tr>\n",
              "    <tr>\n",
              "      <th>2022-10-01 03:00:00</th>\n",
              "      <td>8.0</td>\n",
              "    </tr>\n",
              "    <tr>\n",
              "      <th>2022-10-01 04:00:00</th>\n",
              "      <td>8.0</td>\n",
              "    </tr>\n",
              "    <tr>\n",
              "      <th>...</th>\n",
              "      <td>...</td>\n",
              "    </tr>\n",
              "    <tr>\n",
              "      <th>2023-03-31 19:00:00</th>\n",
              "      <td>7.0</td>\n",
              "    </tr>\n",
              "    <tr>\n",
              "      <th>2023-03-31 20:00:00</th>\n",
              "      <td>10.0</td>\n",
              "    </tr>\n",
              "    <tr>\n",
              "      <th>2023-03-31 21:00:00</th>\n",
              "      <td>8.0</td>\n",
              "    </tr>\n",
              "    <tr>\n",
              "      <th>2023-03-31 22:00:00</th>\n",
              "      <td>8.0</td>\n",
              "    </tr>\n",
              "    <tr>\n",
              "      <th>2023-03-31 23:00:00</th>\n",
              "      <td>7.0</td>\n",
              "    </tr>\n",
              "  </tbody>\n",
              "</table>\n",
              "<p>4303 rows × 1 columns</p>\n",
              "</div>"
            ],
            "text/plain": [
              "                     value\n",
              "Date                      \n",
              "2022-10-01 00:00:00    8.0\n",
              "2022-10-01 01:00:00    9.0\n",
              "2022-10-01 02:00:00    8.0\n",
              "2022-10-01 03:00:00    8.0\n",
              "2022-10-01 04:00:00    8.0\n",
              "...                    ...\n",
              "2023-03-31 19:00:00    7.0\n",
              "2023-03-31 20:00:00   10.0\n",
              "2023-03-31 21:00:00    8.0\n",
              "2023-03-31 22:00:00    8.0\n",
              "2023-03-31 23:00:00    7.0\n",
              "\n",
              "[4303 rows x 1 columns]"
            ]
          },
          "execution_count": 23,
          "metadata": {},
          "output_type": "execute_result"
        }
      ],
      "source": [
        "df"
      ]
    },
    {
      "cell_type": "code",
      "execution_count": 24,
      "metadata": {},
      "outputs": [
        {
          "data": {
            "text/plain": [
              "array([[3.4403672]], dtype=float32)"
            ]
          },
          "execution_count": 24,
          "metadata": {},
          "output_type": "execute_result"
        }
      ],
      "source": [
        "y_new"
      ]
    },
    {
      "cell_type": "code",
      "execution_count": 44,
      "metadata": {
        "id": "5ZeFzD6wHViq"
      },
      "outputs": [
        {
          "name": "stdout",
          "output_type": "stream",
          "text": [
            "0.4062126642771804\n"
          ]
        }
      ],
      "source": [
        "from sklearn.metrics import accuracy_score\n",
        "acs = accuracy_score(y_pred.astype(int),y_test.astype(int))\n",
        "print(acs)"
      ]
    },
    {
      "cell_type": "code",
      "execution_count": 34,
      "metadata": {},
      "outputs": [
        {
          "data": {
            "text/plain": [
              "837"
            ]
          },
          "execution_count": 34,
          "metadata": {},
          "output_type": "execute_result"
        }
      ],
      "source": [
        "y_test.size"
      ]
    },
    {
      "cell_type": "code",
      "execution_count": 38,
      "metadata": {},
      "outputs": [
        {
          "data": {
            "text/html": [
              "<div>\n",
              "<style scoped>\n",
              "    .dataframe tbody tr th:only-of-type {\n",
              "        vertical-align: middle;\n",
              "    }\n",
              "\n",
              "    .dataframe tbody tr th {\n",
              "        vertical-align: top;\n",
              "    }\n",
              "\n",
              "    .dataframe thead th {\n",
              "        text-align: right;\n",
              "    }\n",
              "</style>\n",
              "<table border=\"1\" class=\"dataframe\">\n",
              "  <thead>\n",
              "    <tr style=\"text-align: right;\">\n",
              "      <th></th>\n",
              "      <th>value</th>\n",
              "      <th>prediction</th>\n",
              "    </tr>\n",
              "  </thead>\n",
              "  <tbody>\n",
              "    <tr>\n",
              "      <th>0</th>\n",
              "      <td>4.0</td>\n",
              "      <td>4.292309</td>\n",
              "    </tr>\n",
              "    <tr>\n",
              "      <th>1</th>\n",
              "      <td>3.0</td>\n",
              "      <td>4.304964</td>\n",
              "    </tr>\n",
              "    <tr>\n",
              "      <th>2</th>\n",
              "      <td>4.0</td>\n",
              "      <td>3.346478</td>\n",
              "    </tr>\n",
              "    <tr>\n",
              "      <th>3</th>\n",
              "      <td>4.0</td>\n",
              "      <td>4.285405</td>\n",
              "    </tr>\n",
              "    <tr>\n",
              "      <th>4</th>\n",
              "      <td>4.0</td>\n",
              "      <td>4.377504</td>\n",
              "    </tr>\n",
              "    <tr>\n",
              "      <th>...</th>\n",
              "      <td>...</td>\n",
              "      <td>...</td>\n",
              "    </tr>\n",
              "    <tr>\n",
              "      <th>832</th>\n",
              "      <td>7.0</td>\n",
              "      <td>7.236440</td>\n",
              "    </tr>\n",
              "    <tr>\n",
              "      <th>833</th>\n",
              "      <td>10.0</td>\n",
              "      <td>7.183561</td>\n",
              "    </tr>\n",
              "    <tr>\n",
              "      <th>834</th>\n",
              "      <td>8.0</td>\n",
              "      <td>10.238671</td>\n",
              "    </tr>\n",
              "    <tr>\n",
              "      <th>835</th>\n",
              "      <td>8.0</td>\n",
              "      <td>8.238880</td>\n",
              "    </tr>\n",
              "    <tr>\n",
              "      <th>836</th>\n",
              "      <td>7.0</td>\n",
              "      <td>7.929721</td>\n",
              "    </tr>\n",
              "  </tbody>\n",
              "</table>\n",
              "<p>837 rows × 2 columns</p>\n",
              "</div>"
            ],
            "text/plain": [
              "     value  prediction\n",
              "0      4.0    4.292309\n",
              "1      3.0    4.304964\n",
              "2      4.0    3.346478\n",
              "3      4.0    4.285405\n",
              "4      4.0    4.377504\n",
              "..     ...         ...\n",
              "832    7.0    7.236440\n",
              "833   10.0    7.183561\n",
              "834    8.0   10.238671\n",
              "835    8.0    8.238880\n",
              "836    7.0    7.929721\n",
              "\n",
              "[837 rows x 2 columns]"
            ]
          },
          "execution_count": 38,
          "metadata": {},
          "output_type": "execute_result"
        }
      ],
      "source": [
        "check  = pd.DataFrame()\n",
        "check['value'] = pd.Series(y_test.flatten())\n",
        "check['prediction'] = pd.Series(y_pred.flatten())\n",
        "check"
      ]
    },
    {
      "cell_type": "code",
      "execution_count": 36,
      "metadata": {},
      "outputs": [
        {
          "data": {
            "text/plain": [
              "numpy.ndarray"
            ]
          },
          "execution_count": 36,
          "metadata": {},
          "output_type": "execute_result"
        }
      ],
      "source": [
        "type(y_test)"
      ]
    },
    {
      "cell_type": "code",
      "execution_count": 39,
      "metadata": {},
      "outputs": [],
      "source": [
        "check.to_csv('out_lstm.csv')"
      ]
    },
    {
      "cell_type": "code",
      "execution_count": null,
      "metadata": {},
      "outputs": [],
      "source": []
    }
  ],
  "metadata": {
    "colab": {
      "provenance": []
    },
    "kernelspec": {
      "display_name": "Python 3",
      "name": "python3"
    },
    "language_info": {
      "codemirror_mode": {
        "name": "ipython",
        "version": 3
      },
      "file_extension": ".py",
      "mimetype": "text/x-python",
      "name": "python",
      "nbconvert_exporter": "python",
      "pygments_lexer": "ipython3",
      "version": "3.11.3"
    }
  },
  "nbformat": 4,
  "nbformat_minor": 0
}
