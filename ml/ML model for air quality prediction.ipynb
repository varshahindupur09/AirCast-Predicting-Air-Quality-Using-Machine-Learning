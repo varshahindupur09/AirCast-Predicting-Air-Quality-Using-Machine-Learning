{
 "cells": [
  {
   "cell_type": "markdown",
   "id": "5993d7ee",
   "metadata": {},
   "source": [
    "### ARIMA "
   ]
  },
  {
   "cell_type": "code",
   "execution_count": 1,
   "id": "393db835",
   "metadata": {},
   "outputs": [],
   "source": [
    "import pandas as pd\n",
    "# Import ARIMA and datetime\n",
    "from statsmodels.tsa.arima.model import ARIMA\n",
    "from datetime import datetime, timedelta\n",
    "from sklearn.model_selection import train_test_split"
   ]
  },
  {
   "cell_type": "code",
   "execution_count": 130,
   "id": "601abb57",
   "metadata": {},
   "outputs": [
    {
     "data": {
      "text/html": [
       "<div>\n",
       "<style scoped>\n",
       "    .dataframe tbody tr th:only-of-type {\n",
       "        vertical-align: middle;\n",
       "    }\n",
       "\n",
       "    .dataframe tbody tr th {\n",
       "        vertical-align: top;\n",
       "    }\n",
       "\n",
       "    .dataframe thead th {\n",
       "        text-align: right;\n",
       "    }\n",
       "</style>\n",
       "<table border=\"1\" class=\"dataframe\">\n",
       "  <thead>\n",
       "    <tr style=\"text-align: right;\">\n",
       "      <th></th>\n",
       "      <th>date</th>\n",
       "      <th>hour</th>\n",
       "      <th>AQSID</th>\n",
       "      <th>sitename</th>\n",
       "      <th>GMT offset</th>\n",
       "      <th>parameter name</th>\n",
       "      <th>reporting units</th>\n",
       "      <th>value</th>\n",
       "      <th>datasource</th>\n",
       "    </tr>\n",
       "  </thead>\n",
       "  <tbody>\n",
       "    <tr>\n",
       "      <th>0</th>\n",
       "      <td>03/01/22</td>\n",
       "      <td>00:00</td>\n",
       "      <td>000010102</td>\n",
       "      <td>St. John's</td>\n",
       "      <td>-4.0</td>\n",
       "      <td>OZONE</td>\n",
       "      <td>PPB</td>\n",
       "      <td>29.0</td>\n",
       "      <td>Newfoundland &amp; Labrador DEC</td>\n",
       "    </tr>\n",
       "    <tr>\n",
       "      <th>1</th>\n",
       "      <td>03/01/22</td>\n",
       "      <td>00:00</td>\n",
       "      <td>000010401</td>\n",
       "      <td>Mount Pearl</td>\n",
       "      <td>-4.0</td>\n",
       "      <td>OZONE</td>\n",
       "      <td>PPB</td>\n",
       "      <td>30.0</td>\n",
       "      <td>Newfoundland &amp; Labrador DEC</td>\n",
       "    </tr>\n",
       "    <tr>\n",
       "      <th>2</th>\n",
       "      <td>03/01/22</td>\n",
       "      <td>00:00</td>\n",
       "      <td>000010401</td>\n",
       "      <td>Mount Pearl</td>\n",
       "      <td>-4.0</td>\n",
       "      <td>PM2.5</td>\n",
       "      <td>UG/M3</td>\n",
       "      <td>13.0</td>\n",
       "      <td>Newfoundland &amp; Labrador DEC</td>\n",
       "    </tr>\n",
       "    <tr>\n",
       "      <th>3</th>\n",
       "      <td>03/01/22</td>\n",
       "      <td>00:00</td>\n",
       "      <td>000010601</td>\n",
       "      <td>Goose Bay</td>\n",
       "      <td>-4.0</td>\n",
       "      <td>OZONE</td>\n",
       "      <td>PPB</td>\n",
       "      <td>37.0</td>\n",
       "      <td>Canadian Air and Precipitation Monitoring Network</td>\n",
       "    </tr>\n",
       "    <tr>\n",
       "      <th>4</th>\n",
       "      <td>03/01/22</td>\n",
       "      <td>00:00</td>\n",
       "      <td>000010602</td>\n",
       "      <td>MacPherson Avenue -</td>\n",
       "      <td>-4.0</td>\n",
       "      <td>PM2.5</td>\n",
       "      <td>UG/M3</td>\n",
       "      <td>6.0</td>\n",
       "      <td>Environment Canada</td>\n",
       "    </tr>\n",
       "    <tr>\n",
       "      <th>...</th>\n",
       "      <td>...</td>\n",
       "      <td>...</td>\n",
       "      <td>...</td>\n",
       "      <td>...</td>\n",
       "      <td>...</td>\n",
       "      <td>...</td>\n",
       "      <td>...</td>\n",
       "      <td>...</td>\n",
       "      <td>...</td>\n",
       "    </tr>\n",
       "    <tr>\n",
       "      <th>8733</th>\n",
       "      <td>03/01/22</td>\n",
       "      <td>00:00</td>\n",
       "      <td>240190004</td>\n",
       "      <td>Horn Point</td>\n",
       "      <td>-5.0</td>\n",
       "      <td>BARPR</td>\n",
       "      <td>MILLIBAR</td>\n",
       "      <td>1023.4</td>\n",
       "      <td>Maryland Department of the Environment</td>\n",
       "    </tr>\n",
       "    <tr>\n",
       "      <th>8734</th>\n",
       "      <td>03/01/22</td>\n",
       "      <td>00:00</td>\n",
       "      <td>240190004</td>\n",
       "      <td>Horn Point</td>\n",
       "      <td>-5.0</td>\n",
       "      <td>OZONE</td>\n",
       "      <td>PPB</td>\n",
       "      <td>43.0</td>\n",
       "      <td>Maryland Department of the Environment</td>\n",
       "    </tr>\n",
       "    <tr>\n",
       "      <th>8735</th>\n",
       "      <td>03/01/22</td>\n",
       "      <td>00:00</td>\n",
       "      <td>240190004</td>\n",
       "      <td>Horn Point</td>\n",
       "      <td>-5.0</td>\n",
       "      <td>PM2.5</td>\n",
       "      <td>UG/M3</td>\n",
       "      <td>6.0</td>\n",
       "      <td>Maryland Department of the Environment</td>\n",
       "    </tr>\n",
       "    <tr>\n",
       "      <th>8736</th>\n",
       "      <td>03/01/22</td>\n",
       "      <td>00:00</td>\n",
       "      <td>240190004</td>\n",
       "      <td>Horn Point</td>\n",
       "      <td>-5.0</td>\n",
       "      <td>PRECIP</td>\n",
       "      <td>MM</td>\n",
       "      <td>0.0</td>\n",
       "      <td>Maryland Department of the Environment</td>\n",
       "    </tr>\n",
       "    <tr>\n",
       "      <th>8737</th>\n",
       "      <td>03/01/22</td>\n",
       "      <td>00:00</td>\n",
       "      <td>240190004</td>\n",
       "      <td>Horn Point</td>\n",
       "      <td>-5.0</td>\n",
       "      <td>RHUM</td>\n",
       "      <td>PERCENT</td>\n",
       "      <td>52.0</td>\n",
       "      <td>Maryland Department of the Environment</td>\n",
       "    </tr>\n",
       "  </tbody>\n",
       "</table>\n",
       "<p>8738 rows × 9 columns</p>\n",
       "</div>"
      ],
      "text/plain": [
       "          date   hour      AQSID              sitename  GMT offset  \\\n",
       "0     03/01/22  00:00  000010102            St. John's        -4.0   \n",
       "1     03/01/22  00:00  000010401           Mount Pearl        -4.0   \n",
       "2     03/01/22  00:00  000010401           Mount Pearl        -4.0   \n",
       "3     03/01/22  00:00  000010601             Goose Bay        -4.0   \n",
       "4     03/01/22  00:00  000010602  MacPherson Avenue -         -4.0   \n",
       "...        ...    ...        ...                   ...         ...   \n",
       "8733  03/01/22  00:00  240190004            Horn Point        -5.0   \n",
       "8734  03/01/22  00:00  240190004            Horn Point        -5.0   \n",
       "8735  03/01/22  00:00  240190004            Horn Point        -5.0   \n",
       "8736  03/01/22  00:00  240190004            Horn Point        -5.0   \n",
       "8737  03/01/22  00:00  240190004            Horn Point        -5.0   \n",
       "\n",
       "     parameter name reporting units   value  \\\n",
       "0             OZONE             PPB    29.0   \n",
       "1             OZONE             PPB    30.0   \n",
       "2             PM2.5           UG/M3    13.0   \n",
       "3             OZONE             PPB    37.0   \n",
       "4             PM2.5           UG/M3     6.0   \n",
       "...             ...             ...     ...   \n",
       "8733          BARPR        MILLIBAR  1023.4   \n",
       "8734          OZONE             PPB    43.0   \n",
       "8735          PM2.5           UG/M3     6.0   \n",
       "8736         PRECIP              MM     0.0   \n",
       "8737           RHUM         PERCENT    52.0   \n",
       "\n",
       "                                             datasource  \n",
       "0                           Newfoundland & Labrador DEC  \n",
       "1                           Newfoundland & Labrador DEC  \n",
       "2                           Newfoundland & Labrador DEC  \n",
       "3     Canadian Air and Precipitation Monitoring Network  \n",
       "4                                    Environment Canada  \n",
       "...                                                 ...  \n",
       "8733             Maryland Department of the Environment  \n",
       "8734             Maryland Department of the Environment  \n",
       "8735             Maryland Department of the Environment  \n",
       "8736             Maryland Department of the Environment  \n",
       "8737             Maryland Department of the Environment  \n",
       "\n",
       "[8738 rows x 9 columns]"
      ]
     },
     "execution_count": 130,
     "metadata": {},
     "output_type": "execute_result"
    }
   ],
   "source": [
    "column_names = ['date', 'hour', 'AQSID', 'sitename', 'GMT offset', 'parameter name', 'reporting units', 'value', 'datasource']\n",
    "\n",
    "df = pd.read_csv('./data/HourlyData_2022030100.dat',  sep='|', names=column_names)\n",
    "df = df.rename(columns={'date ': 'date'})  # renames 'date ' to 'date'\n",
    "df['date'] = df['date'].str.strip()  # removes any leading/trailing whitespace in 'date' column\n",
    "df=df[:-1]\n",
    "df"
   ]
  },
  {
   "cell_type": "code",
   "execution_count": 3,
   "id": "20004348",
   "metadata": {},
   "outputs": [
    {
     "name": "stderr",
     "output_type": "stream",
     "text": [
      "C:\\Users\\avsch\\AppData\\Local\\Temp\\ipykernel_16684\\2449224298.py:3: UserWarning: Could not infer format, so each element will be parsed individually, falling back to `dateutil`. To ensure parsing is consistent and as-expected, please specify a format.\n",
      "  df_ozone['date'] = pd.to_datetime(df_ozone['date'])\n"
     ]
    },
    {
     "data": {
      "text/html": [
       "<div>\n",
       "<style scoped>\n",
       "    .dataframe tbody tr th:only-of-type {\n",
       "        vertical-align: middle;\n",
       "    }\n",
       "\n",
       "    .dataframe tbody tr th {\n",
       "        vertical-align: top;\n",
       "    }\n",
       "\n",
       "    .dataframe thead th {\n",
       "        text-align: right;\n",
       "    }\n",
       "</style>\n",
       "<table border=\"1\" class=\"dataframe\">\n",
       "  <thead>\n",
       "    <tr style=\"text-align: right;\">\n",
       "      <th></th>\n",
       "      <th>date</th>\n",
       "      <th>hour</th>\n",
       "      <th>AQSID</th>\n",
       "      <th>sitename</th>\n",
       "      <th>GMT offset</th>\n",
       "      <th>parameter name</th>\n",
       "      <th>reporting units</th>\n",
       "      <th>value</th>\n",
       "      <th>datasource</th>\n",
       "    </tr>\n",
       "  </thead>\n",
       "  <tbody>\n",
       "    <tr>\n",
       "      <th>166696</th>\n",
       "      <td>2023-03-31</td>\n",
       "      <td>09:00</td>\n",
       "      <td>170314007</td>\n",
       "      <td>DESPLNS</td>\n",
       "      <td>-6.0</td>\n",
       "      <td>OZONE</td>\n",
       "      <td>PPB</td>\n",
       "      <td>48.0</td>\n",
       "      <td>Illinois EPA</td>\n",
       "    </tr>\n",
       "    <tr>\n",
       "      <th>166697</th>\n",
       "      <td>2023-03-31</td>\n",
       "      <td>09:00</td>\n",
       "      <td>000020401</td>\n",
       "      <td>SOUTHAMPTON</td>\n",
       "      <td>-4.0</td>\n",
       "      <td>OZONE</td>\n",
       "      <td>PPB</td>\n",
       "      <td>42.0</td>\n",
       "      <td>Canada-Prince Edward Island1</td>\n",
       "    </tr>\n",
       "  </tbody>\n",
       "</table>\n",
       "</div>"
      ],
      "text/plain": [
       "             date   hour      AQSID     sitename  GMT offset parameter name   \n",
       "166696 2023-03-31  09:00  170314007      DESPLNS        -6.0          OZONE  \\\n",
       "166697 2023-03-31  09:00  000020401  SOUTHAMPTON        -4.0          OZONE   \n",
       "\n",
       "       reporting units  value                    datasource  \n",
       "166696             PPB   48.0                  Illinois EPA  \n",
       "166697             PPB   42.0  Canada-Prince Edward Island1  "
      ]
     },
     "execution_count": 3,
     "metadata": {},
     "output_type": "execute_result"
    }
   ],
   "source": [
    "df = pd.read_csv('./data/6data.csv',  sep=',')\n",
    "df_ozone = df[df['parameter name']== 'OZONE'].reset_index(drop = True)\n",
    "df_ozone['date'] = pd.to_datetime(df_ozone['date'])\n",
    "df = df_ozone.sort_values(by=['date']).reset_index(drop = True)\n",
    "df.tail(2)"
   ]
  },
  {
   "cell_type": "code",
   "execution_count": 4,
   "id": "6ecdffa0",
   "metadata": {},
   "outputs": [
    {
     "name": "stdout",
     "output_type": "stream",
     "text": [
      "2023-03-31 00:00:00\n"
     ]
    },
    {
     "name": "stderr",
     "output_type": "stream",
     "text": [
      "C:\\Users\\avsch\\AppData\\Local\\Temp\\ipykernel_16684\\2338160301.py:1: UserWarning: Could not infer format, so each element will be parsed individually, falling back to `dateutil`. To ensure parsing is consistent and as-expected, please specify a format.\n",
      "  df['hour'] = pd.to_datetime(df['hour'])\n"
     ]
    }
   ],
   "source": [
    "df['hour'] = pd.to_datetime(df['hour'])\n",
    "df['hour'] = df['hour'].dt.hour\n",
    "last_dates = df['date'].iloc[-1]\n",
    "print(last_dates)"
   ]
  },
  {
   "cell_type": "code",
   "execution_count": 5,
   "id": "db688137",
   "metadata": {},
   "outputs": [],
   "source": [
    "df['date'] = pd.to_datetime(df['date'])\n",
    "df['hour'] = df['hour'].astype(str).str.zfill(6)\n",
    "df['hour'] = df['hour'].str[:2] + ':' + df['hour'].str[2:4] + ':' + df['hour'].str[4:]\n",
    "df['datetime'] = pd.to_datetime(df['date'].dt.strftime('%Y-%m-%d') + ' ' + df['hour'])"
   ]
  },
  {
   "cell_type": "code",
   "execution_count": 6,
   "id": "22b51ad5",
   "metadata": {},
   "outputs": [
    {
     "data": {
      "text/html": [
       "<div>\n",
       "<style scoped>\n",
       "    .dataframe tbody tr th:only-of-type {\n",
       "        vertical-align: middle;\n",
       "    }\n",
       "\n",
       "    .dataframe tbody tr th {\n",
       "        vertical-align: top;\n",
       "    }\n",
       "\n",
       "    .dataframe thead th {\n",
       "        text-align: right;\n",
       "    }\n",
       "</style>\n",
       "<table border=\"1\" class=\"dataframe\">\n",
       "  <thead>\n",
       "    <tr style=\"text-align: right;\">\n",
       "      <th></th>\n",
       "      <th>date</th>\n",
       "      <th>hour</th>\n",
       "      <th>AQSID</th>\n",
       "      <th>sitename</th>\n",
       "      <th>GMT offset</th>\n",
       "      <th>parameter name</th>\n",
       "      <th>reporting units</th>\n",
       "      <th>value</th>\n",
       "      <th>datasource</th>\n",
       "      <th>datetime</th>\n",
       "    </tr>\n",
       "  </thead>\n",
       "  <tbody>\n",
       "    <tr>\n",
       "      <th>166696</th>\n",
       "      <td>2023-03-31</td>\n",
       "      <td>00:00:09</td>\n",
       "      <td>170314007</td>\n",
       "      <td>DESPLNS</td>\n",
       "      <td>-6.0</td>\n",
       "      <td>OZONE</td>\n",
       "      <td>PPB</td>\n",
       "      <td>48.0</td>\n",
       "      <td>Illinois EPA</td>\n",
       "      <td>2023-03-31 00:00:09</td>\n",
       "    </tr>\n",
       "    <tr>\n",
       "      <th>166697</th>\n",
       "      <td>2023-03-31</td>\n",
       "      <td>00:00:09</td>\n",
       "      <td>000020401</td>\n",
       "      <td>SOUTHAMPTON</td>\n",
       "      <td>-4.0</td>\n",
       "      <td>OZONE</td>\n",
       "      <td>PPB</td>\n",
       "      <td>42.0</td>\n",
       "      <td>Canada-Prince Edward Island1</td>\n",
       "      <td>2023-03-31 00:00:09</td>\n",
       "    </tr>\n",
       "  </tbody>\n",
       "</table>\n",
       "</div>"
      ],
      "text/plain": [
       "             date      hour      AQSID     sitename  GMT offset   \n",
       "166696 2023-03-31  00:00:09  170314007      DESPLNS        -6.0  \\\n",
       "166697 2023-03-31  00:00:09  000020401  SOUTHAMPTON        -4.0   \n",
       "\n",
       "       parameter name reporting units  value                    datasource   \n",
       "166696          OZONE             PPB   48.0                  Illinois EPA  \\\n",
       "166697          OZONE             PPB   42.0  Canada-Prince Edward Island1   \n",
       "\n",
       "                  datetime  \n",
       "166696 2023-03-31 00:00:09  \n",
       "166697 2023-03-31 00:00:09  "
      ]
     },
     "execution_count": 6,
     "metadata": {},
     "output_type": "execute_result"
    }
   ],
   "source": [
    "df.tail(2)"
   ]
  },
  {
   "cell_type": "code",
   "execution_count": 7,
   "id": "77263e55",
   "metadata": {},
   "outputs": [
    {
     "name": "stdout",
     "output_type": "stream",
     "text": [
      "2023-03-31 00:00:09\n",
      "2023-04-01 00:00:09\n"
     ]
    }
   ],
   "source": [
    "last_date = df['datetime'].iloc[-1]\n",
    "print(last_date)\n",
    "last_date = last_date + timedelta(days=1)\n",
    "print(last_date)"
   ]
  },
  {
   "cell_type": "code",
   "execution_count": 9,
   "id": "65f2a3e6",
   "metadata": {},
   "outputs": [
    {
     "name": "stdout",
     "output_type": "stream",
     "text": [
      "[Timestamp('2023-04-01 01:00:09'), Timestamp('2023-04-01 02:00:09'), Timestamp('2023-04-01 03:00:09'), Timestamp('2023-04-01 04:00:09'), Timestamp('2023-04-01 05:00:09'), Timestamp('2023-04-01 06:00:09'), Timestamp('2023-04-01 07:00:09'), Timestamp('2023-04-01 08:00:09'), Timestamp('2023-04-01 09:00:09'), Timestamp('2023-04-01 10:00:09'), Timestamp('2023-04-01 11:00:09'), Timestamp('2023-04-01 12:00:09'), Timestamp('2023-04-01 13:00:09'), Timestamp('2023-04-01 14:00:09'), Timestamp('2023-04-01 15:00:09'), Timestamp('2023-04-01 16:00:09'), Timestamp('2023-04-01 17:00:09'), Timestamp('2023-04-01 18:00:09'), Timestamp('2023-04-01 19:00:09'), Timestamp('2023-04-01 20:00:09'), Timestamp('2023-04-01 21:00:09'), Timestamp('2023-04-01 22:00:09'), Timestamp('2023-04-01 23:00:09'), Timestamp('2023-04-02 00:00:09')]\n",
      "166674 166697\n",
      "MSE: 50.63697238786555\n"
     ]
    }
   ],
   "source": [
    "# Define the number of days to forecast\n",
    "# forecast_horizon = 7\n",
    "forecast_horizon = 24\n",
    "\n",
    "# Split data into training and testing sets\n",
    "train, test = train_test_split(df, test_size=forecast_horizon, shuffle=False)\n",
    "\n",
    "# Generate the date range for the forecast\n",
    "forecast_dates = [last_date + timedelta(hours=i) for i in range(1, forecast_horizon+1)]\n",
    "print(forecast_dates)\n",
    "\n",
    "# Fit ARIMA model\n",
    "model = ARIMA(df['value'], order=(1, 0, 0))\n",
    "# Split data into training and testing sets\n",
    "results = model.fit()\n",
    "\n",
    "# Make predictions on test set\n",
    "print(test.index[0], test.index[-1])\n",
    "predictions = results.predict(start=test.index[0], end=test.index[-1])\n",
    "\n",
    "# Evaluate model performance on test set\n",
    "mse = ((predictions - test['value']) ** 2).mean()\n",
    "print('MSE:', mse)\n",
    "\n",
    "# Forecast future values\n",
    "forecast_values = results.forecast(steps=forecast_horizon)\n",
    "\n",
    "# Combine the forecasted values with the corresponding dates\n",
    "forecast = pd.DataFrame({\n",
    "    'date': forecast_dates,\n",
    "    'value': forecast_values\n",
    "})\n",
    "\n",
    "# Set the date as the index\n",
    "forecast = forecast.set_index('date')\n"
   ]
  },
  {
   "cell_type": "code",
   "execution_count": 15,
   "id": "af0639e2",
   "metadata": {},
   "outputs": [
    {
     "name": "stdout",
     "output_type": "stream",
     "text": [
      "                         value\n",
      "date                          \n",
      "2023-04-01 01:00:09  38.405929\n",
      "2023-04-01 02:00:09  36.406365\n",
      "2023-04-01 03:00:09  35.293906\n",
      "2023-04-01 04:00:09  34.674989\n",
      "2023-04-01 05:00:09  34.330654\n",
      "2023-04-01 06:00:09  34.139083\n",
      "2023-04-01 07:00:09  34.032503\n",
      "2023-04-01 08:00:09  33.973206\n",
      "2023-04-01 09:00:09  33.940217\n",
      "2023-04-01 10:00:09  33.921863\n",
      "2023-04-01 11:00:09  33.911652\n",
      "2023-04-01 12:00:09  33.905971\n",
      "2023-04-01 13:00:09  33.902811\n",
      "2023-04-01 14:00:09  33.901052\n",
      "2023-04-01 15:00:09  33.900074\n",
      "2023-04-01 16:00:09  33.899530\n",
      "2023-04-01 17:00:09  33.899227\n",
      "2023-04-01 18:00:09  33.899058\n",
      "2023-04-01 19:00:09  33.898965\n",
      "2023-04-01 20:00:09  33.898912\n",
      "2023-04-01 21:00:09  33.898883\n",
      "2023-04-01 22:00:09  33.898867\n",
      "2023-04-01 23:00:09  33.898858\n",
      "2023-04-02 00:00:09  33.898853\n"
     ]
    }
   ],
   "source": [
    "print(forecast)"
   ]
  },
  {
   "cell_type": "markdown",
   "id": "8d77c30f",
   "metadata": {},
   "source": [
    " The data shows ozone level predictions for air quality at different times on March 31st and April 1st."
   ]
  },
  {
   "cell_type": "code",
   "execution_count": 18,
   "id": "4a1d9ada",
   "metadata": {},
   "outputs": [],
   "source": [
    "from sklearn.metrics import accuracy_score\n",
    "acs = accuracy_score(forecast['value'].astype(int), test['value'].astype(int))\n"
   ]
  },
  {
   "cell_type": "code",
   "execution_count": 19,
   "id": "786f5799",
   "metadata": {},
   "outputs": [
    {
     "data": {
      "text/plain": [
       "0.0"
      ]
     },
     "execution_count": 19,
     "metadata": {},
     "output_type": "execute_result"
    }
   ],
   "source": [
    "acs"
   ]
  },
  {
   "cell_type": "code",
   "execution_count": 20,
   "id": "18058729",
   "metadata": {},
   "outputs": [
    {
     "name": "stdout",
     "output_type": "stream",
     "text": [
      "date\n",
      "2023-04-01 01:00:09    38\n",
      "2023-04-01 02:00:09    36\n",
      "2023-04-01 03:00:09    35\n",
      "2023-04-01 04:00:09    34\n",
      "2023-04-01 05:00:09    34\n",
      "2023-04-01 06:00:09    34\n",
      "2023-04-01 07:00:09    34\n",
      "2023-04-01 08:00:09    33\n",
      "2023-04-01 09:00:09    33\n",
      "2023-04-01 10:00:09    33\n",
      "2023-04-01 11:00:09    33\n",
      "2023-04-01 12:00:09    33\n",
      "2023-04-01 13:00:09    33\n",
      "2023-04-01 14:00:09    33\n",
      "2023-04-01 15:00:09    33\n",
      "2023-04-01 16:00:09    33\n",
      "2023-04-01 17:00:09    33\n",
      "2023-04-01 18:00:09    33\n",
      "2023-04-01 19:00:09    33\n",
      "2023-04-01 20:00:09    33\n",
      "2023-04-01 21:00:09    33\n",
      "2023-04-01 22:00:09    33\n",
      "2023-04-01 23:00:09    33\n",
      "2023-04-02 00:00:09    33\n",
      "Name: value, dtype: int32\n"
     ]
    }
   ],
   "source": [
    "print(forecast['value'].astype(int))"
   ]
  },
  {
   "cell_type": "code",
   "execution_count": 21,
   "id": "b56901b3",
   "metadata": {},
   "outputs": [
    {
     "name": "stdout",
     "output_type": "stream",
     "text": [
      "166674    47\n",
      "166675    44\n",
      "166676    47\n",
      "166677    49\n",
      "166678    51\n",
      "166679    52\n",
      "166680    47\n",
      "166681    52\n",
      "166682    46\n",
      "166683    48\n",
      "166684    40\n",
      "166685    36\n",
      "166686    48\n",
      "166687    48\n",
      "166688    45\n",
      "166689    48\n",
      "166690    55\n",
      "166691    54\n",
      "166692    46\n",
      "166693    43\n",
      "166694    50\n",
      "166695    46\n",
      "166696    48\n",
      "166697    42\n",
      "Name: value, dtype: int32\n"
     ]
    }
   ],
   "source": [
    "print(test['value'].astype(int))"
   ]
  },
  {
   "cell_type": "code",
   "execution_count": 25,
   "id": "cc375d30",
   "metadata": {},
   "outputs": [],
   "source": [
    "test['pred'] = forecast.values"
   ]
  },
  {
   "cell_type": "code",
   "execution_count": 26,
   "id": "569f196b",
   "metadata": {},
   "outputs": [
    {
     "data": {
      "text/plain": [
       "166674    38.405929\n",
       "166675    36.406365\n",
       "166676    35.293906\n",
       "166677    34.674989\n",
       "166678    34.330654\n",
       "166679    34.139083\n",
       "166680    34.032503\n",
       "166681    33.973206\n",
       "166682    33.940217\n",
       "166683    33.921863\n",
       "166684    33.911652\n",
       "166685    33.905971\n",
       "166686    33.902811\n",
       "166687    33.901052\n",
       "166688    33.900074\n",
       "166689    33.899530\n",
       "166690    33.899227\n",
       "166691    33.899058\n",
       "166692    33.898965\n",
       "166693    33.898912\n",
       "166694    33.898883\n",
       "166695    33.898867\n",
       "166696    33.898858\n",
       "166697    33.898853\n",
       "Name: pred, dtype: float64"
      ]
     },
     "execution_count": 26,
     "metadata": {},
     "output_type": "execute_result"
    }
   ],
   "source": [
    "test['pred']"
   ]
  },
  {
   "cell_type": "code",
   "execution_count": 27,
   "id": "507783f7",
   "metadata": {},
   "outputs": [
    {
     "name": "stdout",
     "output_type": "stream",
     "text": [
      "0.0\n"
     ]
    }
   ],
   "source": [
    "from sklearn.metrics import accuracy_score\n",
    "acs = accuracy_score(test['pred'].astype(int), test['value'].astype(int))\n",
    "print(acs)"
   ]
  },
  {
   "cell_type": "code",
   "execution_count": null,
   "id": "960d56e8",
   "metadata": {},
   "outputs": [],
   "source": []
  }
 ],
 "metadata": {
  "kernelspec": {
   "display_name": "Python 3 (ipykernel)",
   "language": "python",
   "name": "python3"
  },
  "language_info": {
   "codemirror_mode": {
    "name": "ipython",
    "version": 3
   },
   "file_extension": ".py",
   "mimetype": "text/x-python",
   "name": "python",
   "nbconvert_exporter": "python",
   "pygments_lexer": "ipython3",
   "version": "3.11.3"
  }
 },
 "nbformat": 4,
 "nbformat_minor": 5
}
